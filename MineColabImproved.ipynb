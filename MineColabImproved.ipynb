{
  "cells": [
    {
      "cell_type": "markdown",
      "metadata": {
        "id": "view-in-github",
        "colab_type": "text"
      },
      "source": [
        "<a href=\"https://colab.research.google.com/github/N-aksif-N/MineColab_Improved/blob/free-config/MineColabImproved.ipynb\" target=\"_parent\"><img src=\"https://colab.research.google.com/assets/colab-badge.svg\" alt=\"Open In Colab\"/></a>"
      ]
    },
    {
      "cell_type": "code",
      "execution_count": null,
      "metadata": {
        "colab": {
          "base_uri": "https://localhost:8080/",
          "height": 330
        },
        "id": "El-B9eNVM0c0",
        "outputId": "4e6ffc45-1eae-468f-d565-f44961006d00",
        "cellView": "form"
      },
      "outputs": [
        {
          "data": {
            "text/html": [
              "<p><img style=\"display: block; margin-left: auto; margin-right: auto;\" src=\"https://raw.githubusercontent.com/N-aksif-N/MineColab/master/minecolab.png\" alt=\"\" width=\"170\" height=\"136\" /></p><h1 style=\"text-align: center;\"><span style=\"color: #00ffff;\">MineColab</span></h1><hr /><h2 style=\"text-align: center;\"><span style=\"color: #99ccff;\">Forked By N-Aksif  </span></h2><h2 style=\"text-align: center;\"><span style=\"color: #FFFFFF;\">Run Minecraft Server On Google Colab</span></h2></span></h2><a href=\"https://github.com/N-aksif-N/MineColab/tree/main\" target=\"_parent\"><img align=\"right\" alt=\"Open In Github\"></a>"
            ],
            "text/plain": [
              "<IPython.core.display.HTML object>"
            ]
          },
          "metadata": {},
          "output_type": "display_data"
        }
      ],
      "source": [
        "#@markdown\n",
        "from IPython.core.display import display, HTML\n",
        "display(HTML('<p><img style=\"display: block; margin-left: auto; margin-right: auto;\" src=\"https://raw.githubusercontent.com/N-aksif-N/MineColab/master/minecolab.png\" alt=\"\" width=\"170\" height=\"136\" /></p><h1 style=\"text-align: center;\"><span style=\"color: #00ffff;\">MineColab</span></h1><hr /><h2 style=\"text-align: center;\"><span style=\"color: #99ccff;\">Forked By N-Aksif  </span></h2><h2 style=\"text-align: center;\"><span style=\"color: #FFFFFF;\">Run Minecraft Server On Google Colab</span></h2></span></h2><a href=\"https://github.com/N-aksif-N/MineColab/tree/main\" target=\"_parent\"><img align=\"right\" alt=\"Open In Github\"></a>'))"
      ]
    },
    {
      "cell_type": "markdown",
      "metadata": {
        "colab_type": "toc",
        "id": "_WIUEffnqCjt"
      },
      "source": [
        ">[🔥 Starting](#scrollTo=Ei7_3ODcUdm_)\n",
        "\n",
        ">[▶ or 🛑  Console](#scrollTo=JMgdsuPcUuEv)\n",
        "\n",
        ">[⚓ Options](#scrollTo=HD4lBUT9RcS-)\n",
        "\n",
        ">[📎  Log](#scrollTo=hfUxmQTgUF8Z)\n",
        "\n",
        ">[📰  Software](#scrollTo=JkGq3KakW-Bc)\n",
        "\n",
        ">[🎈  Plugins, mods](#scrollTo=QaNRBRuK8seq)\n",
        "\n",
        ">[📁 File Management](#scrollTo=F7efc3oOqTVQ)\n",
        "\n"
      ]
    },
    {
      "cell_type": "markdown",
      "metadata": {
        "id": "ieiauFISqV0_"
      },
      "source": [
        "----"
      ]
    },
    {
      "cell_type": "code",
      "execution_count": null,
      "metadata": {
        "id": "IiPfl5Y1MOmL"
      },
      "outputs": [],
      "source": [
        "# @title **[❗]  Set up** {display-mode: \"form\"}\n",
        "\n",
        "import requests\n",
        "from json import load, dump\n",
        "from os import environ\n",
        "from os.path import exists\n",
        "try: from jproperties import Properties\n",
        "except:\n",
        "  %pip install -q jproperties\n",
        "  from jproperties import Properties\n",
        "try: from rich import print\n",
        "except:\n",
        "  %pip install -q rich\n",
        "  from rich import print\n",
        "if exists('/content/drive') == False:\n",
        "  from google.colab import drive, runtime\n",
        "  drive.mount('/content/drive')\n",
        "else: from google.colab import runtime\n",
        "try: from pyngrok import conf, ngrok\n",
        "except:\n",
        "  %pip install -q pyngrok\n",
        "  from pyngrok import conf, ngrok\n",
        "drive_path = '/content/drive/MyDrive/minecraft'\n",
        "#------------------------------------------------------------------------------------------------------------------------------------#\n",
        "def LOG(*args, sep=''):\n",
        "  print(sep.join(map(str, (\"\\n[bold green][ LOG ][/bold green] \",) + args)))\n",
        "def COLABCONFIG(server_name):\n",
        "  return f\"{drive_path}/{server_name}/colabconfig.txt\"\n",
        "def COLABCONFIG_LOAD(server_name):\n",
        "  if exists(COLABCONFIG(server_name)):\n",
        "    return load(open(COLABCONFIG(server_name)))\n",
        "  else:\n",
        "    colabconfig = {\"server_type\": \"generic\"} # using default, if config doesn't exist.\n",
        "    dump(colabconfig, open(COLABCONFIG(server_name),'w'))\n",
        "    raise Exception('Please checking whether you deleted your colabconfig file or not.')\n",
        "\n",
        "SERVERCONFIG = f'{drive_path}/server_list.txt'\n",
        "def SERVER_IN_USE(server_name):\n",
        "  if exists(f'{drive_path}/{server_name}'):\n",
        "    return server_name\n",
        "  else:\n",
        "    serverconfig = load(open(SERVERCONFIG))\n",
        "    if serverconfig['server_in_use'] != '':\n",
        "      return serverconfig['server_in_use']\n",
        "    else:\n",
        "      raise Exception('Please create a minecraft server first!')\n",
        "\n",
        "def DOWNLOAD_FILE(url, path, file_name):\n",
        "  # Download file into file_name thourgh url\n",
        "  if exists(path):\n",
        "    r = requests.get(url)\n",
        "    if r.status_code == 200:\n",
        "      LOG('\\nDownloading ' + file_name)\n",
        "      with open(path + '/' + file_name, 'wb') as f:\n",
        "            f.write(r.content)\n",
        "    else: raise Exception('Error '+ str(r.status_code) + \"! Most likely you entered an unsupported version. Try running the code again if you think that shouldn't have happened.\")\n",
        "  else: raise Exception(\"Error: File didn't exist.\")\n",
        "#--------------------------------------------------------- INSTALL JAVA --------------------------------------------------------------#\n",
        "def JAVA_VER():\n",
        "  # Getting java version\n",
        "  java_ver = !java -version 2>&1 | awk -F[\\\"\\.] -v OFS=. 'NR==1{print $2}'\n",
        "  return java_ver\n",
        "def INSTALL_JAVA(version: str):\n",
        "  # Adoptopen jdk -- optional\n",
        "  # !wget -qO - https://adoptopenjdk.jfrog.io/adoptopenjdk/api/gpg/key/public | sudo apt-key add -\n",
        "  # !sudo add-apt-repository --yes https://adoptopenjdk.jfrog.io/adoptopenjdk/deb/ &>/dev/null || echo \"Failed to add repo. Still can be ignored if openjdk gets installed.\"\n",
        "\n",
        "  # Java 8 is required to run Minecraft versions 1.12 through 1.17. Java 17 is required to run Minecraft version 1.18 and up.\n",
        "  if version > \"1.17\":\n",
        "    ! sudo apt install openjdk-17-jre-headless &>/dev/null &&echo \"Openjdk17 successfully installed\" || echo \"Failed to install OpenJdk17.\"\n",
        "    environ[\"JAVA_HOME\"] = \"/usr/lib/jvm/java-17-openjdk-amd64\"\n",
        "    ! update-alternatives --set java /usr/lib/jvm/java-17-openjdk-amd64/bin/java\n",
        "  else:\n",
        "    ! sudo apt install openjdk-8-jre-headless &>/dev/null &&echo \"Openjdk8 successfully installed\" || echo \"Failed to install OpenJdk8.\"\n",
        "    environ[\"JAVA_HOME\"] = \"/usr/lib/jvm/java-8-openjdk-amd64\"\n",
        "    ! update-alternatives --set java /usr/lib/jvm/java-8-openjdk-amd64/jre/bin/java\n",
        "def JAVA_CHECK():\n",
        "  # Checking whether it is working or not? Currently, Google colab used java 11 as main java.\n",
        "  if JAVA_VER()[0] == \"1\" : LOG(\"Openjdk8 is working correctly, you are good to go.\")\n",
        "  elif JAVA_VER()[0] == '17': LOG(\"Openjdk17 is working correctly, you are good to go.\")\n",
        "  else:\n",
        "    raise Exception(\"Openjdk doesn't seem to be installed or isn't working, falling back to java\" + str(JAVA_VER()[0]), '\\nYou might experience reduced performance. Minecraft 1.18 and above might fail to launch.')\n",
        "#------------------------------------------------------- INSTALL SERVER.JAR -------------------------------------------------------------#\n",
        "# The jar file name\n",
        "def JAR_LIST_RUN(colabconfig):\n",
        "  return {'generic': 'server.jar', 'vanilla':'vanilla.jar','snapshot': 'snapshot.jar',\n",
        "          'purpur' : 'purpur.jar', 'paper': 'paper.jar', 'arclight' : 'arclight.jar',\n",
        "          'fabric' : 'fabric-launcher.jar', 'forge': f'minecraft_server.{colabconfig['server_version']}.jar',\n",
        "          'bungeecord' : 'bungeecord.jar', 'waterfall' : 'waterfall.jar', 'velocity' : 'velocity.jar'}\n",
        "\n",
        "def SERVERSJAR(all = False, jar = False, server_type= '', version = None):\n",
        "  # Set up public dict => get download url\n",
        "  SERVERSJAR_URL = {\n",
        "      'vanilla'   : '/vanilla/vanilla',    'snapshot'  : '/vanilla/snapshot',\n",
        "      'paper'     : \"/servers/paper/\",     \"purpur\"    : \"/servers/purpur/\",\n",
        "      \"fabric\"    : \"/modded/fabric\",      \"forge\"     : \"/modded/forge\",\n",
        "      \"bungeecord\": \"/proxies/bungeecord\", \"waterfall\" : \"/proxies/waterfall/\", \"velocity\"  : \"/proxies/velocity\"\n",
        "      }\n",
        "  # Return the download url (jar) or return the detail url (all)\n",
        "  if all:\n",
        "    return 'https://serverjars.com/api/fetchAll' + SERVERSJAR_URL[server_type]\n",
        "  elif jar == True and version != None:\n",
        "    return 'https://serverjars.com/api/fetchJar' + SERVERSJAR_URL[server_type] + f'/{version}'\n",
        "  else: raise Exception('Wrong given arguments')\n",
        "\n",
        "def GET_SERVERJAR(server_name, type_, version, jarname = 'server.jar'):\n",
        "  # Get jar file\n",
        "  DOWNLOAD_FILE(url= SERVERSJAR(jar = True, server_type = type_, version= version), path = f\"{drive_path}/{server_name}\", file_name= jarname)\n",
        "  # Forge need to open and run it => Using command instead.\n",
        "  if type_ == 'forge':\n",
        "    INSTALL_JAVA(version)\n",
        "    JAVA_CHECK()\n",
        "    !java -jar forge-installer.jar --installServer\n",
        "#------------------------------------------------------ TUNNEL - COMMAND -------------------- ---------------------------------------#\n",
        "def CONNECT_NGROK(port, type_ , proxy):\n",
        "  # Get serverconfig['ngrok_proxy'] : dict includes (authtoken, region)\n",
        "  token = proxy['authtoken']\n",
        "  !ngrok authtoken $token\n",
        "  region = proxy['region']\n",
        "  conf.get_default().region = region\n",
        "  url = ngrok.connect (port, type_)\n",
        "  if type_ == 'tcp':\n",
        "    return 'Your server address is ' + ((str(url).split('\"')[1::2])[0]).replace('tcp://', '')\n",
        "  else:\n",
        "    return url\n",
        "def EXIT_NGROK():\n",
        "  # Exiting ngrok tunnel helps improve the performance\n",
        "  tunnels = ngrok.get_tunnels()\n",
        "  for tunnel in tunnels: ngrok.disconnect(tunnel.public_url)\n",
        "  ngrok.kill()\n",
        "  LOG(\"Ngrok closed.\")\n",
        "def RUNCOMMAND(server_name, colabconfig, serverconfig, hide = False):\n",
        "  # Get all the improving java arguments\n",
        "  args = \" -Xms8G -Xmx8G \"\n",
        "  _type = colabconfig[\"server_type\"]\n",
        "  if _type == \"paper\" or _type == 'purpur':\n",
        "    # Improving paper cilent (purpur is an alternative).\n",
        "    # For more detailed: https://docs.papermc.io/paper/aikars-flags\n",
        "    args += '-XX:+UseG1GC -XX:+ParallelRefProcEnabled -XX:MaxGCPauseMillis=200 -XX:+UnlockExperimentalVMOptions -XX:+DisableExplicitGC -XX:+AlwaysPreTouch -XX:G1NewSizePercent=30 -XX:G1MaxNewSizePercent=40 -XX:G1HeapRegionSize=8M -XX:G1ReservePercent=20 -XX:G1HeapWastePercent=5 -XX:G1MixedGCCountTarget=4 -XX:InitiatingHeapOccupancyPercent=15 -XX:G1MixedGCLiveThresholdPercent=90 -XX:G1RSetUpdatingPauseTimePercent=5 -XX:SurvivorRatio=32 -XX:+PerfDisableSharedMem -XX:MaxTenuringThreshold=1 -Dusing.aikars.flags=https://mcflags.emc.gs -Daikars.new.flags=true '\n",
        "  # GC_LOGGING\n",
        "  if JAVA_VER()[0] == \"1\": args += '-Xloggc:gc.log -verbose:gc -XX:+PrintGCDetails -XX:+PrintGCDateStamps -XX:+PrintGCTimeStamps -XX:+UseGCLogFileRotation -XX:NumberOfGCLogFiles=5 -XX:GCLogFileSize=1M'\n",
        "  # else: args += '-Xlog:gc*:logs/gc.log:time,uptime:filecount=5,filesize=1M' # GC_Logging may not worked in java 11 and above\n",
        "\n",
        "  jar_name = JAR_LIST_RUN(colabconfig)[_type]\n",
        "  if hide == True:\n",
        "      # Install needed file: eula.txt and so on.\n",
        "      !java -server -Xms8G -Xmx8G -jar $jar_name nogui &>/dev/null&\n",
        "  else:\n",
        "    tunnel_service = serverconfig['ngrok_proxy']['tunnel_service']\n",
        "    # Starting tunneling and run java file.\n",
        "    LOG(f'Starting server ({tunnel_service})...')\n",
        "    LOG('Stop server => /stop')\n",
        "    if tunnel_service == \"ngrok\":\n",
        "      LOG(CONNECT_NGROK(type_= 'tcp', port= 25565, proxy = serverconfig['ngrok_proxy']))\n",
        "      !java -server $args -jar $jar_name nogui\n",
        "    elif tunnel_service == \"playit\":\n",
        "      # Download playit\n",
        "      ! command -v playit || curl -SsL https://playit-cloud.github.io/ppa/key.gpg | gpg --dearmor | sudo tee /etc/apt/trusted.gpg.d/playit.gpg &>/dev/null && echo \"deb [signed-by=/etc/apt/trusted.gpg.d/playit.gpg] https://playit-cloud.github.io/ppa/data ./\" | sudo tee /etc/apt/sources.list.d/playit-cloud.list && sudo apt -qq update && sudo apt install playit &>/dev/null && echo \"Playit.gg installed\" || echo \"Failed to install playit\"\n",
        "      # Run server\n",
        "      ! playit & java -server $args -jar $jar_name nogui\n",
        "    else:\n",
        "      # Download argo\n",
        "      if exists(f'{drive_path}/{server_name}/cloudflared-linux-amd64') == False:\n",
        "        ! curl https://github.com/cloudflare/cloudflared/releases/latest/download/cloudflared-linux-amd64 > cloudflared-linux-amd64\n",
        "        ! chmod +x cloudflared-linux-amd64\n",
        "      # Runserver\n",
        "      !./cloudflared-linux-amd64 tunnel --url tcp://127.0.0.1:25565 && echo 'Your free tunnel has started!' && java -server $args -jar $jar_name nogui\n",
        "#--------------------------------------------------- SERVER - PLUGINS/MODS/MODPACKS SEARCH ----------------------------------------------------------#\n",
        "def FACETS(colabconfig, software, categories, versions, project_types, proj_types, index):\n",
        "  # Get all the syntax\n",
        "  if software == 'Modrinth':\n",
        "    facets = \"[\"\n",
        "    if categories != 'none': facets += f'[\"categories:{[categories]}\"]';\n",
        "    if facets != '[': facets += \",\" + f'[\"versions:{[versions]}\"]';\n",
        "    else: facets += f'[\"versions:{[versions]}\"]';\n",
        "    if facets != '[': facets += \",\" + f'[\"project_type:{[proj_types]}\"]'\n",
        "    else: facets += f'[\"project_type:{[proj_types]}\"]'\n",
        "    facets += \"]\"; facetsInURL = \"\";\n",
        "    if facets != \"[]\": facetsInURL = f'&facets={facets}&index={index}'\n",
        "    return facetsInURL\n",
        "  else:\n",
        "    if categories != 'none':\n",
        "      if categories == 'fabric': categories = 4 #Fabric\n",
        "      elif categories == 'forge': categories = 1 #Forge\n",
        "      elif categories == 'quilt': categories = 5 # quilt\n",
        "      categories = f\"&modLoaderType={categories}\"\n",
        "    if index != \"none\":\n",
        "      if index == \"relevance\": index = 1 # Featured\n",
        "      elif index == \"downloads\": index = 6 #TotalDownloads\n",
        "      elif index == \"follows\": index = 2 #Popularity\n",
        "      elif index == \"newest\": index = 11 #ReleasedDate\n",
        "      elif index == \"updated\": index = 3 #LastUpdated\n",
        "      index = f\"&sortField={index}\"\n",
        "    else: index = ''\n",
        "    if versions != \"none\": versions = f\"&gameVersion={versions}\"\n",
        "    else: versions = \"\"\n",
        "    return categories + versions + index\n",
        "def SEARCH(software, server_name, search_name, categories, versions, project_types, proj_types, index):\n",
        "  colabconfig = COLABCONFIG_LOAD(server_name)\n",
        "  project = {}\n",
        "  LOG(f'\\nSearching for the related of {search_name} ...')\n",
        "  if software == \"Modrinth\":\n",
        "    # Get syntax and get data\n",
        "    facetsInURL = FACETS(colabconfig, software, categories, versions, project_types, proj_types, index)\n",
        "    rJSON = requests.get(f'https://api.modrinth.com/v2/search?query={search_name}{facetsInURL}').json()\n",
        "    # Get the list of all relevant project\n",
        "    for hit in rJSON['hits']:\n",
        "      # Auditing if it for server or not.\n",
        "      if hit['server_side'] == 'optional' or hit['server_side'] == 'required':\n",
        "        # Get a full list title : description\n",
        "        LOG(hit['title'], \" : \", hit['description'])\n",
        "        project[hit['title']] = hit['project_id']\n",
        "  elif software == 'Curseforge':\n",
        "    LOG(f\"Curseforge doesn't have the exact searching key for cilent-side or server-side => you may get errors when running this {proj_types}\")\n",
        "    facetsInURL = FACETS(colabconfig, software, categories, versions, project_types, proj_types, index)\n",
        "    # Because I haven't found any corresponded of project types in the search engine of Curseforge, I don't use it for searching.\n",
        "    # The gameid of Minecraft is 432\n",
        "    rJSON = requests.get(f\"https://api.curse.tools/v1/cf/mods/search?gameId=432&searchFilter={search_name}{facetsInURL}\").json()\n",
        "    # Get the list of all relevant project\n",
        "    for hit in rJSON[\"data\"]:\n",
        "      # Get a full list name: summary\n",
        "      LOG(hit[\"name\"], ' : ', hit[\"summary\"])\n",
        "      project[hit['name']] = str(hit[\"id\"])\n",
        "  # Checking whether your search name wrong or not. If yes => Get the name of project => Get project id\n",
        "  project_names =''\n",
        "  if project == {}:\n",
        "    raise Exception(f\"\\nSomething went wrong. Please check your search name.\")\n",
        "  else:\n",
        "    LOG('\\nType the project_name you want to download')\n",
        "    project_names= input('Project_name: ')\n",
        "    while project_names not in project:\n",
        "      LOG('\\nWrong project_names please type aigain. If you want to quit, type \"None\".')\n",
        "      project_names= input('\\nProject_name: ')\n",
        "      if project_names == 'None': break\n",
        "  return [project, project_names]\n",
        "def MODPACK(server_name, file_name, software, path):\n",
        "  !unzip file_name -d file_name.split('.')[0] &>/dev/null&\n",
        "  if software == 'Modrinth':\n",
        "    manifest = load(open(f\"{path}/modrinth.index.json\"))[\"files\"]\n",
        "    for files in manifest:\n",
        "      path_ = files[\"path\"].split(\"/\")[0]\n",
        "      file_name_ = files[\"path\"].split(\"/\")[1]\n",
        "      DOWNLOAD_FILE(url = files[\"downloads\"],\n",
        "                    path = f'{drive_path}/{server_name}/{path_}',file_name = file_name_)\n",
        "  else:\n",
        "    manifest = load(open(f\"{path}/manifest.json\"))[\"files\"]\n",
        "    for files in manifest:\n",
        "      project_id = files[\"projectID\"]\n",
        "      file_ID = files[\"fileID\"]\n",
        "      rJSON = requests.get(f'https://api.curse.tools/v1/cf/mods/{project_id}/files/{fileId}').json()[\"data\"]\n",
        "      file_name_ = rJSON[\"displayName\"]\n",
        "      DOWNLOAD_FILE(url = files[\"downloads\"],\n",
        "                    path = f'{drive_path}/{server_name}/mods', file_name = file_name_)\n",
        "def MODRINTH(check, server_name, file_name, software, path, project_id):\n",
        "  rJSON = requests.get(f'https://api.modrinth.com/v2/project/{project_id}/version').json()\n",
        "  for data in rJSON:\n",
        "    for game_version in data['game_versions']:\n",
        "      if versions == game_version:\n",
        "        files = data['files'][0]['filename']; url = files['url']\n",
        "        DOWNLOAD_FILE(url= url, path = path, file_name= files)\n",
        "        check = True; break\n",
        "      if check == True and project_types == 'modpack':\n",
        "        MODPACK(server_name = server_name, software = software, path = path, file_name= files['filename']); print('\\nCompleted.'); break\n",
        "      elif check == True: print('\\nCompleted.'); break\n",
        "    if check == False: raise Exception(f\"It seems that {software} doesn't support this {project_names}\"); break\n",
        "def CURSEFORGE(check, server_name, file_name, software, path, project_id):\n",
        "  rJSON = requests.get(f'https://api.curse.tools/v1/cf/mods/{project_id}').json()['data']['latestFilesIndexes']\n",
        "  for data in rJSON:\n",
        "    if versions == data[\"gameVersion\"]:\n",
        "      files = data['filename'], fileId = data['fileId']; url = f'https://www.curseforge.com/api/v1/mods/{project_id}/files/{fileId}/download'\n",
        "      DOWNLOAD_FILE(url= url, path = path, file_name= files)\n",
        "      check = True\n",
        "    if check == True and project_types == 'modpack':\n",
        "      MODPACK(server_name = server_name, software = software, path = path, file_name= files['filename']); print('\\nCompleted.'); break\n",
        "    elif check == True: print('\\nCompleted.'); break\n",
        "  if check == False: raise Exception(f\"It seems that {software} doesn't support this {project_names}\")\n",
        "#----------------------------------------------------------- MAIN -------------------------------------------------------------#\n",
        "\n",
        "def Install_server(tunnel_service , authtoken, region, server_name, type_, version= ''):\n",
        "  # Auditing whether file is existed.\n",
        "  if exists(f'{drive_path}/{server_name}') == False:\n",
        "    # Create folder\n",
        "    ! mkdir -p \"{drive_path}/{server_name}\"\n",
        "    # Get version\n",
        "    if version == '':\n",
        "      # Print available version => get version (string variable)\n",
        "      LOG('\\n Aivailable version:')\n",
        "      a = requests.get(SERVERSJAR(all = True, server_type= server_type)).json()\n",
        "      server_version = [hit['version'] for hit in a['response']]\n",
        "      LOG(server_version)\n",
        "      version = input('Server version: ')\n",
        "      while version == '':\n",
        "        EROR(\"Invalid versions\")\n",
        "        LOG('\\n Aivailable version:', server_version)\n",
        "        version = input('Server version: ')\n",
        "    elif version == 'vanilla - latest_version':\n",
        "      vanilla = requests.get(SERVERSJAR(all = True, server_type= type_, version = version)).json()\n",
        "      version = str(vanilla['response'][0]['version'])\n",
        "    # Load serverconfig\n",
        "    serverconfig = load(open(SERVERCONFIG))\n",
        "    serverconfig['server_list'] += [server_name]\n",
        "    serverconfig['server_in_use'] = server_name\n",
        "    if serverconfig['ngrok_proxy'] == {}:\n",
        "      if tunnel_service == 'ngrok':\n",
        "        LOG('Get your authtoken from https://dashboard.ngrok.com/get-started/your-authtoken')\n",
        "        authtoken = input('Your authtoken: ')\n",
        "        LOG('Available Regions:', ' ap - Asia/Pacific (Singapore)', ' au - Australia (Sydney)',\n",
        "              ' eu - Europa (Frankfurt - Germany)', ' in - India (Mumbai)', ' jp - Japan (Tokyo)',\n",
        "              ' sa - America (São Paulo - Brazil)', ' us - United States (Ohio)', sep='\\n')\n",
        "        region = input('Region: ')\n",
        "        serverconfig['ngrok_proxy'] = {\n",
        "            \"tunnel_service\" : tunnel_service,\n",
        "            'authtoken'   : authtoken, \"region\"  : region}\n",
        "    dump(serverconfig, open(SERVERCONFIG, 'w'))\n",
        "    # Set up colabconfig\n",
        "    colabconfig = {\"server_type\": type_, \"server_version\": version}\n",
        "    dump(colabconfig, open(COLABCONFIG(server_name),'w'))\n",
        "    # Download jar file\n",
        "    LOG(\"\\n[Note: This installation takes approximately 10-15 minutes, wait for 'Completed' after executing the first step.]\")\n",
        "    if type_ == 'forge': jarname = 'forge-installer.jar' # The jar file name (forge need a special process)\n",
        "    else: jarname = JAR_LIST_RUN(colabconfig)[type_]\n",
        "    GET_SERVERJAR(server_name, type_, version, jarname = jarname)\n",
        "    LOG('\\nCompleted!')\n",
        "  else:\n",
        "    raise Exception('Lol, you have already installed this server file')\n",
        "\n",
        "def Delete_server():\n",
        "  # Get default server\n",
        "  serverconfig = load(open(SERVERCONFIG))\n",
        "  LOG('\\nAivailable server:\\n')\n",
        "  for server in serverconfig['server_list']:\n",
        "    LOG(server)\n",
        "  server_name = input('\\nYour minecraft server: ')\n",
        "  if server_name == '': server_name = serverconfig['server_in_use']\n",
        "  # Auditing whether file is existed.\n",
        "  if exists(f'{drive_path}/{server_name}'):\n",
        "    LOG(f'Deleting {server_name}...')\n",
        "    # Delete folder without noticable\n",
        "    !rm -rf \"{drive_path}/{server_name}\" &>/dev/null&\n",
        "    # Remove the folder name in server config txt files\n",
        "    serverconfig['server_list'].remove(server_name)\n",
        "    if serverconfig['server_in_use'] == server_name:\n",
        "      try: serverconfig['server_in_use']= serverconfig['server_list'][0]\n",
        "      except: serverconfig['server_in_use'] = ''\n",
        "    dump(serverconfig, open(SERVERCONFIG, 'w'))\n",
        "    LOG('Completed')\n",
        "  else:\n",
        "    raise Exception(\"You haven't installed yet.\")\n",
        "\n",
        "def Run_server(server_name):\n",
        "  # Get default server. Load serverconfig because we will use it later\n",
        "  serverconfig = load(open(SERVERCONFIG))\n",
        "  if server_name == '': server_name = serverconfig['server_in_use']\n",
        "  # Auditing whether file is existed.\n",
        "  if exists(f'{drive_path}/{server_name}'):\n",
        "    LOG('Server:  ' + server_name)\n",
        "    # Cd to server path\n",
        "    %cd \"{drive_path}/{server_name}\"\n",
        "    colabconfig = COLABCONFIG_LOAD(server_name)\n",
        "    # Install java acording to the version of server.jar\n",
        "    INSTALL_JAVA(colabconfig['server_version'])\n",
        "    JAVA_CHECK()\n",
        "    # Install necessary files\n",
        "    RUNCOMMAND(server_name, colabconfig, serverconfig, hide = True)\n",
        "    # See what changes in the folder\n",
        "    LOG(\"\\nFiles:\")\n",
        "    !ls -a\n",
        "    # Accept the eula.txt => Run server.jar\n",
        "    LOG('\\nAccepting Eula.')\n",
        "    !sed -i 's/eula=false/eula=true/g' eula.txt\n",
        "    RUNCOMMAND(server_name, colabconfig, serverconfig)\n",
        "    # Stop minecraft server => Exit tunnel\n",
        "    LOG(\"Finalized server.\")\n",
        "    EXIT_NGROK()\n",
        "  else:\n",
        "    raise Exception(\"Have you created your server file?\")\n",
        "\n",
        "#--------------------------------------------------- Ulities ----------------------------------------------------------#\n",
        "def Choose_server():\n",
        "  serverconfig = load(open(SERVERCONFIG))\n",
        "  if serverconfig['server_list'] == []: raise Exception(' Creating your minecraft server before choosing')\n",
        "  else:\n",
        "    LOG('\\nAivailable server:\\n')\n",
        "    for server in serverconfig['server_list']:\n",
        "      LOG(server)\n",
        "    serverconfig['server_in_use'] = input('\\nYour minecraft server: ')\n",
        "    dump(serverconfig, open(SERVERCONFIG, 'w'))\n",
        "    LOG('Completed')\n",
        "\n",
        "def Custom_props(server_name, server_icon, motd):\n",
        "  # Default server\n",
        "  server_name = SERVER_IN_USE(server_name)\n",
        "  LOG('Server:  ' + server_name)\n",
        "  # Add server icon file\n",
        "  if server_icon != '': DOWNLOAD_FILE( url = server_icon, path = f'{drive_path}/{server_name}', file_name = 'server_icon.png')\n",
        "  # Editing MOTD\n",
        "  if motd != '':\n",
        "    server_properties = Properties()\n",
        "    with open(f\"{drive_path}/{server_name}/server.properties\", \"rb\") as f:\n",
        "        server_properties.load(f, \"utf-8\")\n",
        "    server_properties[\"motd\"] = motd\n",
        "    with open(f\"{drive_path}/{server_name}/server.properties\", \"wb\") as f:\n",
        "        server_properties.store(f, encoding=\"utf-8\")\n",
        "  LOG('Completed')\n",
        "\n",
        "def Serverproperties(\n",
        "    server_name, Slots, Gamemode, Difficulty, Cracked, PVP, Command_block, Fly,\n",
        "    Animals, Monsters, Villagers, Nether, Force_gamemode, Spawn_protection):\n",
        "  server_name = SERVER_IN_USE(server_name)\n",
        "  server_properties = Properties()\n",
        "  with open(f\"{drive_path}/{server_name}/server.properties\", \"rb\") as f:\n",
        "      server_properties.load(f, \"utf-8\")\n",
        "  # Configuring\n",
        "  server_properties[\"max-players\"] = str(Slots)\n",
        "  server_properties[\"gamemode\"] = Gamemode\n",
        "  server_properties[\"difficulty\"] = Difficulty\n",
        "  dict_ = {'pvp': PVP, 'enable-command-block': Command_block, 'allow-flight': Fly, 'spawn-animals': Animals, 'spawn-monsters': Monsters,\n",
        "          'spawn-npcs': Villagers, 'allow-nether': Nether, 'force-gamemode': Force_gamemode, 'spawn-protection': Spawn_protection, \"online-mode\" : Cracked}\n",
        "  for keys, value in dict.items():\n",
        "    server_properties[keys] = str(value).lower()\n",
        "  with open(f\"{drive_path}/{server_name}/server.properties\", \"wb\") as f:\n",
        "      server_properties.store(f, encoding=\"utf-8\")\n",
        "  LOG('Completed')\n",
        "\n",
        "def Software(server_name, server_type, version = ''):\n",
        "  server_name = SERVER_IN_USE(server_name)\n",
        "  serverconfig = load(open(SERVERCONFIG))\n",
        "  Delete_server(server_name)\n",
        "  Install_server(serverconfig['ngrok_proxy'] , server_name, server_type)\n",
        "\n",
        "def Install_(server_name, software, url, search_name, categories, versions, project_types, index):\n",
        "  server_name = SERVER_IN_USE(server_name)\n",
        "  LOG(f'Acessing: {server_name}')\n",
        "  if url != '':\n",
        "    # Find file_name in download url\n",
        "    filename = input('File name (optional) : ')\n",
        "    if filename == '':\n",
        "      filename = url[url.find(\"/\") + 1:]\n",
        "      while filename.find(\"/\")!= -1: filename = filename[filename.find(\"/\") + 1:]\n",
        "    # Download file\n",
        "    DOWNLOAD_FILE(url= url, path = f'{drive_path}/{server_name}/{proj_types}', file_name= filename)\n",
        "  else:\n",
        "    colabconfig = COLABCONFIG_LOAD(server_name)\n",
        "    if versions == 'default': versions = colabconfig[\"server_version\"]\n",
        "    if project_types == 'default' :\n",
        "      if 'fabric' in categories or 'forge' in categories : proj_types = 'mods'\n",
        "      elif 'paper' in categories or 'purpur' in categories : proj_types = 'plugins'\n",
        "    elif project_types != 'none': proj_types = project_types\n",
        "    else: proj_types = ''\n",
        "    if categories == 'default': categories = colabconfig['server_type']\n",
        "    a = SEARCH(software, server_name, search_name, categories, versions, project_types, proj_types, index)\n",
        "    project = a[0]; project_names = a[1]; check = False;\n",
        "    if project_names != 'None':\n",
        "      project_id = project[project_names]\n",
        "      path = f'{drive_path}/{server_name}/{proj_types}'\n",
        "      if software == 'Modrinth':\n",
        "        MODRINTH(check, server_name, file_name, software, path, project_id)\n",
        "      else:\n",
        "        CURSEFORGE(check, server_name, file_name, software, path, project_id)\n",
        "    else: LOG('Stopping...')\n",
        "\n",
        "def Backup_files(file_name = '', file_backup = '', server_name= '', server_backup = '', path = '/content/drive/MyDrive/minecraft'):\n",
        "  # Get the default server\n",
        "  server_name = SERVER_IN_USE(server_name)\n",
        "  # Settings path\n",
        "  if file_name != '':\n",
        "    path1 = path + f'/{server_name}/' + file_name\n",
        "    if server_backup != '':\n",
        "      if exists(f'{drive_path}/{server_backup}') == False:\n",
        "        !mkdir '{drive_path}/{server_backup}'\n",
        "    if file_backup != '' and server_backup != '': path2 = path + f'/{server_backup}/' + file_backup\n",
        "    elif file_backup != '' and server_backup == '': path2 = path + f'/{server_name}/' + file_backup\n",
        "    elif file_backup == '' and server_backup != '':  path2 = path + f'/{server_backup}/' + '(back-up)'\n",
        "    else: path2 = path + f'/{server_name}/' + '(back-up)'\n",
        "  else:\n",
        "    path1 = path + f'/{server_name}'\n",
        "    if server_backup != '': path2 = path + f'/{server_backup}'\n",
        "    else: path2 = path + f'/{server_name}' + '(back-up)'\n",
        "  # Zipping\n",
        "  !zip -r \"{path2}\".zip path1 &>dev/null && echo \"Zipping done!\" || echo \"Zipping faled.\"\n",
        "\n",
        "#------------------------------------------------------------------------------------------------------------------------------------#\n",
        "!sudo apt update &>/dev/null &&echo 'apt cache successfully updated' || echo \"apt cache update failed, you might receive stale packages\"\n",
        "!sudo apt upgrade &>/dev/null &&echo 'apt cache successfully upgraded' || echo \"apt cache upgrade failed, you might receive stale packages\"\n",
        "if exists(drive_path) == False:\n",
        "  !mkdir -p '{drive_path}' &>/dev/null&\n",
        "if exists(SERVERCONFIG) == False:\n",
        "  dump({\"server_list\": [], \"server_in_use\": \"\", \"ngrok_proxy\" : {}}, open(SERVERCONFIG, 'w'))\n",
        "LOG('Completed')"
      ]
    },
    {
      "cell_type": "markdown",
      "metadata": {
        "id": "isidTr9WdOpz"
      },
      "source": [
        "---"
      ]
    },
    {
      "cell_type": "markdown",
      "metadata": {
        "id": "Ei7_3ODcUdm_"
      },
      "source": [
        "# 🔥 **Starting**\n",
        "---\n"
      ]
    },
    {
      "cell_type": "code",
      "execution_count": null,
      "metadata": {
        "cellView": "form",
        "id": "2SXjmXvf4vn0"
      },
      "outputs": [],
      "source": [
        "# @markdown ####**Choose your server file name**\n",
        "server_name = \"minecraft\" # @param {type:\"string\"}\n",
        "# @markdown ####You can either use [ngrok](https://ngrok.com/), [playit.gg](https://playit.gg/) or [cloudflare's argo](https://www.cloudflare.com/). Ngrok is easy to setup and doesn't requires anything to be installed by the clients but it can often be quite unreliable. Argo doesn't have such limitations but requires a bit more work. Playit has provided limited versions but with a static domain.\n",
        "# Standard turnel service ( Aivailable turnel: ngrok, argo, playit)\n",
        "tunnel_service = 'ngrok' #@param ['ngrok', 'argo', 'playit']\n",
        "Install_server(\n",
        "  #------------------------------#\n",
        "\n",
        "    tunnel_service = tunnel_service,\n",
        "    # Set authtoken and region by default\n",
        "    authtoken = '',\n",
        "    region = '',\n",
        "\n",
        "  #------------------------------#\n",
        "    server_name = server_name, # your server name\n",
        "    type_ = \"vanilla\", # server type\n",
        "    version = 'vanilla - latest_version'\n",
        "  #------------------------------#\n",
        ")"
      ]
    },
    {
      "cell_type": "code",
      "execution_count": null,
      "metadata": {
        "id": "uRz1WuKUk5zw",
        "cellView": "form"
      },
      "outputs": [],
      "source": [
        "# @markdown ####**Choosing minecraft server**\n",
        "\n",
        "Choose_server()"
      ]
    },
    {
      "cell_type": "code",
      "execution_count": null,
      "metadata": {
        "cellView": "form",
        "id": "ElfueDQX0Bex"
      },
      "outputs": [],
      "source": [
        "# @markdown ####**Delete server**\n",
        "Delete_server()"
      ]
    },
    {
      "cell_type": "markdown",
      "metadata": {
        "id": "jii1sC2uUWvk"
      },
      "source": [
        "-----------------------------------------------------"
      ]
    },
    {
      "cell_type": "markdown",
      "metadata": {
        "id": "JMgdsuPcUuEv"
      },
      "source": [
        "# ▶ **or** 🛑  **Console**\n",
        "---\n",
        "The main console for your minecraft server"
      ]
    },
    {
      "cell_type": "markdown",
      "metadata": {
        "id": "p1fubTo3CSOo"
      },
      "source": [
        "- **[Ngrok](https://ngrok.com)**\n",
        "  + Follow the prompts.\n",
        "  + The IP will change whenever you restart the server.\n",
        "- **[Cloudflare's argo](https://www.cloudflare.com/)** :\n",
        "    - If the 'Your free tunnel has started!' notification appears => Done.\n",
        "    - Access to your server:\n",
        "    1. Download [Cloudflared client](https://github.com/cloudflare/cloudflared/releases/).\n",
        "    2. Launch the binary with `<your Cloudflare file name> access tcp --hostname <tunnel_address> --url 127.0.0.1:25565` (note: tunnel_address is your address which has been set on your Cloudflare)\n",
        "    4. Finally, connect to `127.0.0.1:25565` from the minecraft client which is located in that machine.\n",
        "- **[PlayIt](https://playit.gg/)**: follow the prompts."
      ]
    },
    {
      "cell_type": "code",
      "execution_count": null,
      "metadata": {
        "cellView": "form",
        "id": "lqtMoYg0dUmu"
      },
      "outputs": [],
      "source": [
        "Run_server(\n",
        "    #------------------------------#\n",
        "    # Leaving emty string   -> set to default files\n",
        "    # @markdown\n",
        "    server_name = ''\n",
        "    #------------------------------#\n",
        ")"
      ]
    },
    {
      "cell_type": "markdown",
      "metadata": {
        "id": "Y0BWJEDQOH7J"
      },
      "source": [
        "---"
      ]
    },
    {
      "cell_type": "markdown",
      "metadata": {
        "id": "HD4lBUT9RcS-"
      },
      "source": [
        "# ⚓ **Options**\n",
        "---\n"
      ]
    },
    {
      "cell_type": "code",
      "execution_count": null,
      "metadata": {
        "cellView": "form",
        "id": "XO3WG0U6qPi2"
      },
      "outputs": [],
      "source": [
        "# @markdown ###**Server_custom**\n",
        "\n",
        "# @markdown ####Server icon: **upload image** and get **direct link** from [[ Image ]](https://postimages.org/)\n",
        "Server_icon = '' # @param {type: 'string'}\n",
        "# @markdown ####[[ MOTD create **tool** ]](https://mctools.org/motd-creator)\n",
        "MOTD = '' # @param {type: 'string'}\n",
        "\n",
        "\n",
        "Custom_props(\n",
        "    #------------------------------#\n",
        "    server_name = '', # Customized server file\n",
        "    #------------------------------#\n",
        "    server_icon = Server_icon,\n",
        "    motd = MOTD\n",
        "    #------------------------------#\n",
        "\n",
        ")"
      ]
    },
    {
      "cell_type": "code",
      "execution_count": null,
      "metadata": {
        "cellView": "form",
        "id": "pCJfyMhXRnJS"
      },
      "outputs": [],
      "source": [
        "# @markdown ###**Server properties**\n",
        "\n",
        "Slots = 20 # @param {type:\"slider\", min:0, max:100, step:1}\n",
        "Gamemode = \"survival\" # @param [\"survival\", \"creative\", \"adventure\", \"spectator\"]\n",
        "Difficulty = \"easy\" # @param [\"peaceful\", \"easy\", \"normal\", \"hard\"]\n",
        "Cracked = True # @param {type:\"boolean\"}\n",
        "PVP = True # @param {type:\"boolean\"}\n",
        "Command_block = True # @param {type:\"boolean\"}\n",
        "Fly = True # @param {type:\"boolean\"}\n",
        "Animals = True # @param {type:\"boolean\"}\n",
        "Monsters = True # @param {type:\"boolean\"}\n",
        "Villagers = True # @param {type:\"boolean\"}\n",
        "Nether = True # @param {type:\"boolean\"}\n",
        "Force_gamemode = False # @param {type:\"boolean\"}\n",
        "Spawn_protection = 16 # @param {type:\"slider\", min:0, max:100, step:1}\n",
        "\n",
        "\n",
        "\n",
        "Serverproperties(\n",
        "    server_name = '',\n",
        "\n",
        "    Slots,\n",
        "    Gamemode,\n",
        "    Difficulty,\n",
        "    Cracked,\n",
        "    PVP,\n",
        "    Command_block,\n",
        "    Fly,\n",
        "    Animals,\n",
        "    Monsters,\n",
        "    Villagers,\n",
        "    Nether,\n",
        "    Force_gamemode,\n",
        "    Spawn_protection\n",
        "\n",
        ")"
      ]
    },
    {
      "cell_type": "markdown",
      "metadata": {
        "id": "Ilo0sMqq90On"
      },
      "source": [
        "---"
      ]
    },
    {
      "cell_type": "markdown",
      "metadata": {
        "id": "hfUxmQTgUF8Z"
      },
      "source": [
        "# 📎  **Log**\n",
        "---\n"
      ]
    },
    {
      "cell_type": "code",
      "execution_count": null,
      "metadata": {
        "cellView": "form",
        "id": "6MYwvnY_UNzS"
      },
      "outputs": [],
      "source": [
        "# @markdown **Shows latest log of your minecraft server**\n",
        "# Getting server_folder\n",
        "\n",
        "server_name = SERVER_IN_USE()\n",
        "if os.path.exists(f'/content/drive/My Drive/minecraft/{server_folder}/logs/latest.log'):\n",
        "  print(f'Server {server_name}')\n",
        "  with open(f'/content/drive/My Drive/minecraft/{server_folder}/logs/latest.log', 'r') as f:\n",
        "    print(f.read())\n",
        "else: EROR(\"Error: File didn't exists\")"
      ]
    },
    {
      "cell_type": "markdown",
      "metadata": {
        "id": "QBzBdOXfUK1a"
      },
      "source": [
        "---\n"
      ]
    },
    {
      "cell_type": "markdown",
      "metadata": {
        "id": "JkGq3KakW-Bc"
      },
      "source": [
        "# 📰  **Software**\n",
        "---\n",
        "Change the software (vanilla) to others platforms\n",
        "\n",
        "---"
      ]
    },
    {
      "cell_type": "markdown",
      "metadata": {
        "id": "G4CT_TwV9ZiM"
      },
      "source": [
        "\n",
        "+ Please checking whether your minecraft server is in Gdrive or not.\n"
      ]
    },
    {
      "cell_type": "code",
      "execution_count": null,
      "metadata": {
        "id": "Fy5-YjJMPV3S"
      },
      "outputs": [],
      "source": [
        "LOG('\\nAivailable server:\\n')\n",
        "for server in serverconfig['server_list']:\n",
        "  LOG(server)\n",
        "\n",
        "Software(\n",
        "\n",
        "    # Default server\n",
        "    server_name = input('\\nServer:'),\n",
        "\n",
        "    # Server_version\n",
        "    version = '', # Customizable version\n",
        "\n",
        "    # @markdown ####*Choosing server type*\n",
        "    server_type = \"paper\" # @param [\"vanilla\", \"snapshot\", \"paper\", \"purpur\", \"forge\", \"fabric\", 'bungeecord', 'waterfall', 'velocity', 'arclight']\n",
        "\n",
        ")"
      ]
    },
    {
      "cell_type": "markdown",
      "metadata": {
        "id": "o8xY7ru09mE3"
      },
      "source": [
        "---"
      ]
    },
    {
      "cell_type": "markdown",
      "metadata": {
        "id": "QaNRBRuK8seq"
      },
      "source": [
        "# 🎈  **Plugins, mods**\n",
        "\n",
        "####Download modpack/mod/plugin from [curseforge](https://www.curseforge.com/Minecraft) and [modrinth](https://modrinth.com/)\n",
        "---\n"
      ]
    },
    {
      "cell_type": "code",
      "execution_count": null,
      "metadata": {
        "cellView": "form",
        "id": "QvFvnjIRIU0c"
      },
      "outputs": [],
      "source": [
        "LOG('\\nAivailable server:\\n')\n",
        "for server in serverconfig['server_list']:\n",
        "  LOG(server)\n",
        "\n",
        "#@markdown ### **Your search name**\n",
        "\n",
        "search_name = 'Sodium' # @param {type: 'string'}\n",
        "\n",
        "# @markdown ####Choose the place to download mod/modpack/plugin\n",
        "software = 'Modrinth' # @param [\"Curseforge\", \"Modrinth\"]\n",
        "\n",
        "# @markdown ###**Details:**\n",
        "# @markdown\n",
        "# @markdown #### (none -> don't search (version -- doesn't wellcoming to do this), default -> set up according to colabconfig file)\n",
        "categories = 'none'   #@param ['none', 'default', 'vanilla', 'fabric', 'forge', 'paper', 'purpur', 'bungeecord', 'velocity', 'waterfall']\n",
        "versions = \"default\" # @param [\"default\"] {allow-input: true}\n",
        "project_types = 'none' # @param ['none', 'default', 'mod', 'plugin', 'modpack']\n",
        "index = 'relevance' #@param ['none', 'relevance', 'downloads', 'follows', 'newest', 'updated']\n",
        "\n",
        "Install_(\n",
        "    #------------------------------#\n",
        "    server_name = input('\\nServer:'),\n",
        "    software= software,\n",
        "    url= '', # Customized urlmodpack (just from curseforge or modpack)\n",
        "    #------------------------------#\n",
        "    search_name= search_name,\n",
        "    categories = categories, versions= versions,\n",
        "    project_types= project_types, index= index\n",
        ")"
      ]
    },
    {
      "cell_type": "markdown",
      "metadata": {
        "id": "9Moa0zB_aJhR"
      },
      "source": [
        "---"
      ]
    },
    {
      "cell_type": "markdown",
      "metadata": {
        "id": "F7efc3oOqTVQ"
      },
      "source": [
        "# **📁 File Management**\n",
        "---\n"
      ]
    },
    {
      "cell_type": "code",
      "execution_count": null,
      "metadata": {
        "cellView": "form",
        "id": "5feHpc86boU2"
      },
      "outputs": [],
      "source": [
        "# @markdown Back up server or file?\n",
        "choice = 'server' # @param ['server', 'file']\n",
        "file_name = ''; file_backup = ''; server_name= ''; server_backup = ''\n",
        "if choice == 'server':\n",
        "  server_name = input('Server name: ')\n",
        "  server_backup = input('Back up server name: ')\n",
        "else:\n",
        "  server_name = input('Server name: ')\n",
        "  file_name = input('File name')\n",
        "  file_backup = input('File back up name: ')\n",
        "Backup_files(\n",
        "    #------------------------------#\n",
        "    file_name = file_name,\n",
        "    file_backup = file_backup,\n",
        "    server_name= server_name,\n",
        "    server_backup = server_backup,\n",
        "    path = '/content/drive/MyDrive/minecraft'\n",
        "    #------------------------------#\n",
        ")"
      ]
    }
  ],
  "metadata": {
    "colab": {
      "provenance": [],
      "include_colab_link": true
    },
    "kernelspec": {
      "display_name": "Python 3",
      "name": "python3"
    },
    "language_info": {
      "codemirror_mode": {
        "name": "ipython",
        "version": 3
      },
      "file_extension": ".py",
      "mimetype": "text/x-python",
      "name": "python",
      "nbconvert_exporter": "python",
      "pygments_lexer": "ipython3",
      "version": "3.12.1"
    }
  },
  "nbformat": 4,
  "nbformat_minor": 0
}