{
  "cells": [
    {
      "cell_type": "markdown",
      "metadata": {
        "id": "view-in-github",
        "colab_type": "text"
      },
      "source": [
        "<a href=\"https://colab.research.google.com/github/N-aksif-N/Minecolab/blob/free-config/MineColabImproved.ipynb\" target=\"_parent\"><img src=\"https://colab.research.google.com/assets/colab-badge.svg\" alt=\"Open In Colab\"/></a>"
      ]
    },
    {
      "cell_type": "code",
      "source": [
        "#@markdown\n",
        "from IPython.core.display import display, HTML\n",
        "display(HTML('<p><img style=\"display: block; margin-left: auto; margin-right: auto;\" src=\"https://github.com/N-aksif-N/MineColab/blob/main/minecolab.png?raw=true\" alt=\"\" width=\"170\" height=\"136\" /></p><h1 style=\"text-align: center;\"><span style=\"color: #00ffff;\">MineColab</span></h1><hr /><h2 style=\"text-align: center;\"><span style=\"color: #99ccff;\">Forked By N-Aksif  </span></h2><h2 style=\"text-align: center;\"><span style=\"color: #FFFFFF;\">Run Minecraft Server On Google Colab</span></h2></span></h2><a href=\"https://github.com/N-aksif-N/MineColab/tree/main\" target=\"_parent\"><img align=\"right\" alt=\"Open In Github\"></a>'))"
      ],
      "metadata": {
        "colab": {
          "base_uri": "https://localhost:8080/",
          "height": 330
        },
        "id": "El-B9eNVM0c0",
        "outputId": "b930d988-0375-48b7-886c-b65cefb0d65c",
        "cellView": "form"
      },
      "execution_count": null,
      "outputs": [
        {
          "output_type": "display_data",
          "data": {
            "text/plain": [
              "<IPython.core.display.HTML object>"
            ],
            "text/html": [
              "<p><img style=\"display: block; margin-left: auto; margin-right: auto;\" src=\"https://github.com/N-aksif-N/MineColab/blob/main/minecolab.png?raw=true\" alt=\"\" width=\"170\" height=\"136\" /></p><h1 style=\"text-align: center;\"><span style=\"color: #00ffff;\">MineColab</span></h1><hr /><h2 style=\"text-align: center;\"><span style=\"color: #99ccff;\">Forked By N-Aksif  </span></h2><h2 style=\"text-align: center;\"><span style=\"color: #FFFFFF;\">Run Minecraft Server On Google Colab</span></h2></span></h2><a href=\"https://github.com/N-aksif-N/MineColab/tree/main\" target=\"_parent\"><img align=\"right\" alt=\"Open In Github\"></a>"
            ]
          },
          "metadata": {}
        }
      ]
    },
    {
      "cell_type": "markdown",
      "source": [
        ">[🔥 Starting](#scrollTo=Ei7_3ODcUdm_)\n",
        "\n",
        ">[▶ or 🛑  Console](#scrollTo=JMgdsuPcUuEv)\n",
        "\n",
        ">[⚓ Options](#scrollTo=HD4lBUT9RcS-)\n",
        "\n",
        ">[📎  Log](#scrollTo=hfUxmQTgUF8Z)\n",
        "\n",
        ">[📰  Software](#scrollTo=JkGq3KakW-Bc)\n",
        "\n",
        ">[🎈  Plugins, mods](#scrollTo=QaNRBRuK8seq)\n",
        "\n",
        ">[📁 File Management](#scrollTo=F7efc3oOqTVQ)\n",
        "\n"
      ],
      "metadata": {
        "colab_type": "toc",
        "id": "_WIUEffnqCjt"
      }
    },
    {
      "cell_type": "markdown",
      "source": [
        "----"
      ],
      "metadata": {
        "id": "ieiauFISqV0_"
      }
    },
    {
      "cell_type": "code",
      "execution_count": null,
      "metadata": {
        "id": "IiPfl5Y1MOmL",
        "notebookRunGroups": {
          "groupValue": ""
        }
      },
      "outputs": [],
      "source": [
        "# @title **[❗]  Set up** {display-mode: \"form\"}\n",
        "\n",
        "import subprocess\n",
        "import re\n",
        "import glob\n",
        "import requests\n",
        "import time\n",
        "from json import load, dump\n",
        "import os\n",
        "try: from jproperties import Properties\n",
        "except:\n",
        "  !pip install -q jproperties\n",
        "  from jproperties import Properties\n",
        "try: from rich import print\n",
        "except:\n",
        "  !pip install -q rich\n",
        "  from rich import print\n",
        "if os.path.exists('/content/drive') == False:\n",
        "  from google.colab import drive, runtime\n",
        "  drive.mount('/content/drive')\n",
        "else: from google.colab import runtime\n",
        "try: from pyngrok import conf, ngrok\n",
        "except:\n",
        "  !pip -q install pyngrok\n",
        "  from pyngrok import conf, ngrok\n",
        "\n",
        "#------------------------------------------------------------------------------------------------------------------------------------#\n",
        "def LOG(text):\n",
        "  if '\\n' in str(text):\n",
        "    print(\"\\n[bold green][ LOG ][/bold green] \" + str(text).replace('\\n', ''))\n",
        "  else:\n",
        "    print(\"[bold green][ LOG ][/bold green] \" + str(text))\n",
        "def EROR(text):\n",
        "  print(\"[bold red][ EROR ][/bold red] \" + str(text))\n",
        "def EXIT():\n",
        "  runtime.unassign()\n",
        "\n",
        "def COLABCONFIG(server_name: str):\n",
        "  return f\"/content/drive/My Drive/minecraft/{server_name}/colabconfig.txt\"\n",
        "def COLABCONFIG_LOAD(server_name):\n",
        "  if os.path.exists(COLABCONFIG(server_name)):\n",
        "    return load(open(COLABCONFIG(server_name)))\n",
        "  else:\n",
        "    colabconfig = {\"server_type\": \"generic\"} # using default, if config doesn't exist.\n",
        "    dump(colabconfig, open(\"colabconfig.json\",'w'))\n",
        "    EROR('Please checking whether you deleted your colabconfig file or not.')\n",
        "    EXIT()\n",
        "\n",
        "SERVERCONFIG = '/content/drive/My Drive/minecraft/server_list.txt'\n",
        "def SERVER_IN_USE():\n",
        "  serverconfig = load(open(SERVERCONFIG))\n",
        "  return serverconfig['server_in_use']\n",
        "\n",
        "def DOWNLOAD_FILE(url, path, file_name):\n",
        "  # Download file into file_name thourgh url\n",
        "  if os.path.exists(path):\n",
        "    r = requests.get(url)\n",
        "    if r.status_code == 200:\n",
        "      LOG('\\nDownloading ' + file_name)\n",
        "      with open(path + '/' + file_name, 'wb') as f:\n",
        "            f.write(r.content)\n",
        "    else: EROR('Error '+ str(r.status_code) + \"! Most likely you entered an unsupported version. Try running the code again if you think that shouldn't have happened.\")\n",
        "  else: EROR(\"Error: File didn't exist.\")\n",
        "def EULA(server_name: str):\n",
        "  # Accepting Eula\n",
        "  LOG('\\nAccepting Eula.')\n",
        "  EULA = f'/content/drive/My Drive/minecraft/{server_name}/eula.txt'\n",
        "  if os.path.exists(EULA):\n",
        "    with open(EULA, 'w') as f:\n",
        "      f.seek(0)\n",
        "      f.write(\"eula=true\")\n",
        "  else: EROR(\"Error: File didn't exist.\")\n",
        "#--------------------------------------------------------- INSTALL JAVA --------------------------------------------------------------#\n",
        "def JAVA_VER():\n",
        "  # Getting java version\n",
        "  java_ver = !java -version 2>&1 | awk -F[\\\"\\.] -v OFS=. 'NR==1{print $2}'\n",
        "  return java_ver\n",
        "def INSTALL_JAVA(version: str):\n",
        "  # Adoptopen jdk -- optional\n",
        "  # !wget -qO - https://adoptopenjdk.jfrog.io/adoptopenjdk/api/gpg/key/public | sudo apt-key add -\n",
        "  # !sudo add-apt-repository --yes https://adoptopenjdk.jfrog.io/adoptopenjdk/deb/ &>/dev/null || echo \"Failed to add repo. Still can be ignored if openjdk gets installed.\"\n",
        "\n",
        "  # Java 8 is required to run Minecraft versions 1.12 through 1.17. Java 17 is required to run Minecraft version 1.18 and up.\n",
        "  if version > \"1.17\":\n",
        "    !sudo apt-get install openjdk-17-jre-headless &>/dev/null &&echo \"Openjdk17 successfully installed\" || echo \"Failed to install OpenJdk17.\"\n",
        "    os.environ[\"JAVA_HOME\"] = \"/usr/lib/jvm/java-17-openjdk-amd64\"\n",
        "    !update-alternatives --set java /usr/lib/jvm/java-17-openjdk-amd64/bin/java\n",
        "  else:\n",
        "    !sudo apt-get install openjdk-8-jre-headless &>/dev/null &&echo \"Openjdk8 successfully installed\" || echo \"Failed to install OpenJdk8.\"\n",
        "    os.environ[\"JAVA_HOME\"] = \"/usr/lib/jvm/java-8-openjdk-amd64\"\n",
        "    !update-alternatives --set java /usr/lib/jvm/java-8-openjdk-amd64/jre/bin/java\n",
        "def JAVA_CHECK():\n",
        "  # Checking whether it is working or not? Currently, Google colab used java 11 as main java.\n",
        "  if JAVA_VER()[0] == \"1\" : LOG(\"Openjdk8 is working correctly, you are good to go.\")\n",
        "  elif JAVA_VER()[0] == '17': LOG(\"Openjdk17 is working correctly, you are good to go.\")\n",
        "  else:\n",
        "    EROR(\"Openjdk doesn't seem to be installed or isn't working, falling back to java\" + str(JAVA_VER()[0]))\n",
        "    EROR('You might experience reduced performance. Minecraft 1.18 and above might fail to launch.')\n",
        "#------------------------------------------------------- INSTALL SERVER.JAR -------------------------------------------------------------#\n",
        "# Set up public dict => get download url\n",
        "SERVERSJAR_URL = {\n",
        "    'vanilla'   : '/vanilla/vanilla',    'snapshot'  : '/vanilla/snapshot',\n",
        "    'paper'     : \"/servers/paper/\",     \"purpur\"    : \"/servers/purpur/\",\n",
        "    \"fabric\"    : \"/modded/fabric\",      \"forge\"     : \"/modded/forge\",\n",
        "    \"bungeecord\": \"/proxies/bungeecord\", \"waterfall\" : \"/proxies/waterfall/\", \"velocity\"  : \"/proxies/velocity\"\n",
        "    }\n",
        "# The jar file name\n",
        "def JAR_LIST_RUN(colabconfig: dict):\n",
        "  return {'vanilla':'server.jar','snapshot': 'server.jar',\n",
        "          'purpur' : 'server.jar', 'paper': 'server.jar',\n",
        "          'fabric': 'fabric-launcher.jar', 'forge': 'minecraft_server.' + colabconfig['server_version'] + '.jar',\n",
        "          'bungeecord' : 'server.jar', 'waterfall' : 'server.jar', 'velocity' : 'server.jar', 'generic': 'server.jar'}\n",
        "# The jar file install\n",
        "FORGE_INSTALLER = 'forge': 'forge-installer.jar'\n",
        "def SERVERSJAR(all = False, jar = False, server_type= '', version = None):\n",
        "  # Return the download url (jar) or return the detail url (all)\n",
        "  if all:\n",
        "    return 'https://serverjars.com/api/fetchAll' + SERVERSJAR_URL[server_type]\n",
        "  elif jar == True and version != None:\n",
        "    return 'https://serverjars.com/api/fetchJar' + SERVERSJAR_URL[server_type] + f'/{version}'\n",
        "  else: EROR('Type error: Wrong given arguments')\n",
        "def GET_VERSION(server_type):\n",
        "  # Print available version => get version (string variable)\n",
        "  LOG('\\n Aivailable version:')\n",
        "  a = requests.get(SERVERSJAR(all = True, server_type= server_type)).json()\n",
        "  server_version = [hit['version'] for hit in a['response']]\n",
        "  LOG(server_version)\n",
        "  version = input('Server version: ')\n",
        "  while version == '':\n",
        "    EROR(\"Invalid versions\")\n",
        "    LOG('\\n Aivailable version:', server_version)\n",
        "    version = input('Server version: ')\n",
        "  return version\n",
        "def GET_SERVERJAR(server_name, type_, version, jarname = 'server.jar'):\n",
        "  # Get jar file\n",
        "  DOWNLOAD_FILE(url= SERVERSJAR(jar = True, server_type = type_, version= version),\n",
        "                path = f\"/content/drive/My Drive/minecraft/{server_name}\",\n",
        "                file_name= jarname)\n",
        "  # Forge need to open and run it => Using command instead.\n",
        "  if type_ == 'forge':\n",
        "    INSTALL_JAVA(version)\n",
        "    JAVA_CHECK()\n",
        "    !java -jar forge-installer.jar --installServer\n",
        "#-------------------------------------------------------- Java arguments ------------------------------------------------------------------#\n",
        "def ARGS(type_):\n",
        "  # Get all the improving java arguments\n",
        "  AIKAR_FLAGS = '-XX:+UseG1GC -XX:+ParallelRefProcEnabled -XX:MaxGCPauseMillis=200 -XX:+UnlockExperimentalVMOptions -XX:+DisableExplicitGC -XX:+AlwaysPreTouch -XX:G1NewSizePercent=30 -XX:G1MaxNewSizePercent=40 -XX:G1HeapRegionSize=8M -XX:G1ReservePercent=20 -XX:G1HeapWastePercent=5 -XX:G1MixedGCCountTarget=4 -XX:InitiatingHeapOccupancyPercent=15 -XX:G1MixedGCLiveThresholdPercent=90 -XX:G1RSetUpdatingPauseTimePercent=5 -XX:SurvivorRatio=32 -XX:+PerfDisableSharedMem -XX:MaxTenuringThreshold=1 -Dusing.aikars.flags=https://mcflags.emc.gs -Daikars.new.flags=true'\n",
        "  GC_LOG = '-d64 -Xloggc:gc.log -verbose:gc -XX:+PrintGCDetails -XX:+PrintGCDateStamps -XX:+PrintGCTimeStamps -XX:+UseGCLogFileRotation -XX:NumberOfGCLogFiles=5 -XX:GCLogFileSize=1M'\n",
        "  GC_LOG2 = '-d64 -Xlog:gc*:logs/gc.log:time,uptime:filecount=5,filesize=1M'\n",
        "  args = \"-Xms10G -Xmx10G\"\n",
        "  if type_ == \"paper\" or type_ == 'purpur':\n",
        "    # Improving paper cilent (purpur is an alternative).\n",
        "    # For more detailed: https://docs.papermc.io/paper/aikars-flags\n",
        "    args += AIKAR_FLAGS\n",
        "  # GC_LOGGING\n",
        "  if JAVA_VER()[0] == \"1\" : args += GC_LOG\n",
        "  #elif JAVA_VER()[0] >= '11': args += GC_LOG2  #GC_Logging may not worked in java 11 and above\n",
        "  return args\n",
        "#------------------------------------------------------ TUNNEL - COMMAND -------------------- ---------------------------------------#\n",
        "def CONNECT_NGROK(server_name, port, type_ , colabconfig_proxy):\n",
        "  # Get colabconfig[\"proxy\"] : dict includes (authtoken, region)\n",
        "  token = colabconfig_proxy['authtoken']\n",
        "  !ngrok authtoken $token\n",
        "  region = colabconfig_proxy['region']\n",
        "  conf.get_default().region = region\n",
        "  url = ngrok.connect (port, type_)\n",
        "  if type_ == 'tcp':\n",
        "    return 'Your server address is ' + ((str(url).split('\"')[1::2])[0]).replace('tcp://', '')\n",
        "  else:\n",
        "    return url\n",
        "def EXIT_NGROK():\n",
        "  tunnels = ngrok.get_tunnels()\n",
        "  for tunnel in tunnels:\n",
        "    ngrok.disconnect(tunnel.public_url)\n",
        "  ngrok.kill()\n",
        "  LOG(\"Ngrok closed.\")\n",
        "\n",
        "def PLAYIT_INSTALL():\n",
        "  # Download playit\n",
        "  ! curl -SsL https://playit-cloud.github.io/ppa/key.gpg | gpg --dearmor | sudo tee /etc/apt/trusted.gpg.d/playit.gpg >/dev/null\n",
        "  ! echo \"deb [signed-by=/etc/apt/trusted.gpg.d/playit.gpg] https://playit-cloud.github.io/ppa/data ./\" | sudo tee /etc/apt/sources.list.d/playit-cloud.list\n",
        "  ! sudo apt -qq update && sudo apt install playit &>/dev/null && echo \"Playit.gg installed\" || echo \"Failed to install playit\"\n",
        "def EXECUTE_ARGO():\n",
        "  # Download argo\n",
        "  !curl https://github.com/cloudflare/cloudflared/releases/latest/download/cloudflared-linux-amd64 > cloudflared-linux-amd64\n",
        "  !chmod +x cloudflared-linux-amd64\n",
        "def RUNCOMMAND(server_name, colabconfig, tunnel_service= '', hide = False):\n",
        "  args = ARGS(colabconfig[\"server_type\"])\n",
        "  jar_name = JAR_LIST_RUN(colabconfig)[colabconfig[\"server_type\"]]\n",
        "\n",
        "  if hide == True:\n",
        "      # Install needed file: eula.txt and so on.\n",
        "      !java -server $args -jar $jar_name nogui &>/dev/null &\n",
        "\n",
        "  else:\n",
        "    # Checking tunnel service is set or not. If not => get the default in colabconfig['proxy']\n",
        "    if tunnel_service == '': tunnel_service = colabconfig['proxy']['turnel_service']\n",
        "\n",
        "    # Starting tunneling and run java file.\n",
        "    LOG(f'Starting server ({tunnel_service})...')\n",
        "    if tunnel_service == \"ngrok\":\n",
        "      LOG(CONNECT_NGROK(server_name, type_= 'tcp', port= 25565, colabconfig_proxy = colabconfig['proxy']))\n",
        "      !java -server $args -jar $jar_name nogui\n",
        "    elif tunnel_service == \"playit\":\n",
        "      PLAYIT_INSTALL()\n",
        "      ! playit & java -server $args -jar $jar_name nogui\n",
        "    else:\n",
        "      EXECUTE_ARGO()\n",
        "      !./cloudflared-linux-amd64 tunnel --url tcp://127.0.0.1:25565 && echo 'Your free tunnel has started!'\n",
        "      !java -server $args -jar $j\n",
        "\n",
        "#----------------------------------------------------------- MAIN -------------------------------------------------------------#\n",
        "\n",
        "def Install_server(proxy , server_name, type_, version = ''):\n",
        "  if os.path.exists(f'/content/drive/MyDrive/minecraft/{server_name}') == False:\n",
        "    ! mkdir -p \"/content/drive/MyDrive/minecraft/{server_name}\"\n",
        "    if version == '': version = GET_VERSION(server_type)\n",
        "    elif version == 'vanilla - latest_version':\n",
        "      vanilla = requests.get(SERVERSJAR(all = True, server_type= type_, version = version)).json()\n",
        "      version = str(vanilla['response'][0]['version'])\n",
        "    serverconfig = load(open(SERVERCONFIG))\n",
        "    serverconfig['server_list'] += [server_name]\n",
        "    serverconfig['server_in_use'] = server_name\n",
        "    dump(serverconfig, open(SERVERCONFIG, 'w'))\n",
        "    LOG(\"\\n[Note: This installation takes approximately 10-15 minutes, wait for 'Completed' after executing the first step.]\")\n",
        "    colabconfig = {\"server_type\": type_, \"server_version\": version, \"proxy\": proxy}\n",
        "    if type_ == 'forge': jarname = FORGE_INSTALLER\n",
        "    else: jarname = JAR_LIST_RUN(colabconfig)[type_]\n",
        "    GET_SERVERJAR(server_name, type_, version, jarname = jarname)\n",
        "    dump(colabconfig, open(COLABCONFIG(server_name),'w'))\n",
        "    RUNCOMMAND(server_name, colabconfig, tunnel_service = proxy, hide = True)\n",
        "    LOG('\\nCompleted!')\n",
        "  else:\n",
        "    EROR(' You have already installed this server file')\n",
        "    EXIT()\n",
        "\n",
        "def Delete_server(server_name):\n",
        "  if server_name == '':\n",
        "    server_name = SERVER_IN_USE()\n",
        "  if os.path.exists(f'/content/drive/MyDrive/minecraft/{server_name}'):\n",
        "    LOG('Deleting files...')\n",
        "    serverconfig = load(open(SERVERCONFIG))\n",
        "    if server_name == '': server_name = serverconfig['server_in_use']\n",
        "    subprocess.run(['rm', '-rf', f\"/content/drive/My Drive/minecraft/{serverconfig['server_in_use']}\"])\n",
        "    serverconfig['server_list'].remove(server_name)\n",
        "    if serverconfig['server_in_use'] == server_name:\n",
        "      try: serverconfig['server_in_use']= serverconfig['server_list'][0]\n",
        "      except: serverconfig['server_in_use'] = ''\n",
        "    dump(serverconfig, open(SERVERCONFIG, 'w'))\n",
        "    LOG('Completed')\n",
        "  else:\n",
        "    EROR(\"You haven't installed yet.\")\n",
        "    EXIT()\n",
        "\n",
        "def Run_server(server_name):\n",
        "  if server_name == '':\n",
        "    server_name = SERVER_IN_USE()\n",
        "  if os.path.exists(f'/content/drive/MyDrive/minecraft/{server_name}'):\n",
        "    LOG('Server:  ' + server_name)\n",
        "    %cd \"/content/drive/My Drive/minecraft/{server_name}\"\n",
        "    colabconfig = COLABCONFIG_LOAD(server_name)\n",
        "    INSTALL_JAVA(colabconfig['server_version'])\n",
        "    JAVA_CHECK()\n",
        "    LOG(\"\\nFiles:\")\n",
        "    !ls\n",
        "    EULA(server_name)\n",
        "    RUNCOMMAND(server_name, colabconfig)\n",
        "    LOG(\"Finalized server.\")\n",
        "    EXIT_NGROK()\n",
        "  else:\n",
        "    EROR(\"Please make a minecraft server.\")\n",
        "    EXIT()\n",
        "\n",
        "#---------------------------------------------------------- Ulitites --------------------------------------------------------------------------#\n",
        "def Choose_server():\n",
        "  serverconfig = load(open(SERVERCONFIG))\n",
        "  if serverconfig['server_list'] == []: LOG(' Creating your minecraft server before choosing')\n",
        "  else:\n",
        "    LOG('\\nAivailable server:\\n')\n",
        "    for i in range(len(serverconfig['server_list'])):\n",
        "      LOG(serverconfig['server_list'][i])\n",
        "    serverconfig['server_in_use'] = input('\\nYour minecraft server: ')\n",
        "    dump(serverconfig, open(SERVERCONFIG, 'w'))\n",
        "    LOG('Completed')\n",
        "\n",
        "def Custom_props(server_name, server_icon, motd):\n",
        "  if server_name == '': server_name = SERVER_IN_USE()\n",
        "  if server_icon != '':\n",
        "    DOWNLOAD_FILE(\n",
        "        url = server_icon,\n",
        "        path = f'content/drive/MyDrive/minecraft/{server_name}',\n",
        "        file_name = 'servericon.png'\n",
        "    )\n",
        "  if motd != '':\n",
        "    server_properties = Properties()\n",
        "    with open(f\"/content/drive/My Drive/minecraft/{server_name}/server.properties\", \"rb\") as f:\n",
        "        server_properties.load(f, \"utf-8\")\n",
        "    server_properties[\"motd\"] = motd\n",
        "    with open(f\"/content/drive/My Drive/minecraft/{server_name}/server.properties\", \"wb\") as f:\n",
        "        server_properties.store(f, encoding=\"utf-8\")\n",
        "  LOG('Completed')\n",
        "\n",
        "def Serverproperties(server_name, Slots, Gamemode, Difficulty, Cracked, PVP, Command_block, Fly, Animals,\n",
        "                     Monsters, Villagers, Nether, Force_gamemode, Spawn_protection):\n",
        "  if server_name == '':\n",
        "    server_name = SERVER_IN_USE()\n",
        "  if server_name != '':\n",
        "    LOG(\"Configuring\")\n",
        "    server_properties = Properties()\n",
        "    with open(f\"/content/drive/My Drive/minecraft/{server_name}/server.properties\", \"rb\") as f:\n",
        "        server_properties.load(f, \"utf-8\")\n",
        "    server_properties[\"max-players\"] = str(Slots)\n",
        "    server_properties[\"gamemode\"] = Gamemode\n",
        "    server_properties[\"difficulty\"] = Difficulty\n",
        "    server_properties[\"online-mode\"] = str(Cracked).lower()\n",
        "    dict_ = {'pvp': PVP, 'enable-command-block': Command_block, 'allow-flight': Fly, 'spawn-animals': Animals, 'spawn-monsters': Monsters,\n",
        "            'spawn-npcs': Villagers, 'allow-nether': Nether, 'force-gamemode': Force_gamemode, 'spawn-protection': Spawn_protection}\n",
        "    for keys, value in dict.items():\n",
        "      server_properties[keys] = str(value).lower()\n",
        "    with open(f\"/content/drive/My Drive/minecraft/{server_name}/server.properties\", \"wb\") as f:\n",
        "        server_properties.store(f, encoding=\"utf-8\")\n",
        "    LOG('Completed')\n",
        "  else:\n",
        "    EROR(\"Have you created your server file?\")\n",
        "    EXIT()\n",
        "\n",
        "def Software(server_name, server_type, version = ''):\n",
        "  if server_name == '':\n",
        "    server_name = SERVER_IN_USE()\n",
        "  if server_name != '':\n",
        "    colabconfig = COLABCONFIG_LOAD(server_name)\n",
        "    Delete_server(server_name)\n",
        "    Install_server(colabconfig['proxy'] , server_name, server_type)\n",
        "  else:\n",
        "    EROR(\"You haven't isntall yet!\")\n",
        "    EXIT()\n",
        "\n",
        "def Latest_log():\n",
        "  server_folder = SERVER_IN_USE()\n",
        "  if os.path.exists(f'/content/drive/My Drive/minecraft/{server_folder}/logs/latest.log'):\n",
        "    with open(f'/content/drive/My Drive/minecraft/{server_folder}/logs/latest.log', 'r') as f:\n",
        "      print(f.read())\n",
        "  else: EROR(\"Error: File didn't exists\")\n",
        "\n",
        "#--------------------------------------------------- SERVER - PLUGINS/MODS/MODPACKS SEARCH ----------------------------------------------------------#\n",
        "def facetsInURL(colabconfig, software, categories, versions, project_types, proj_types, index):\n",
        "  if software == 'Modrinth':\n",
        "    if categories == 'none': cats = \"\"\n",
        "    else: cats = f'[\"categories:{[categories]}\"]';\n",
        "    if versions == 'none': vers = \"\"\n",
        "    else: vers = f'[\"versions:{[versions]}\"]';\n",
        "    if project != 'none': proj_types = f'[\"project_type:{[proj_types]}\"]'\n",
        "    else: proj_types = ''\n",
        "    facets = \"[\"\n",
        "    if cats != \"\": facets += cats\n",
        "    if vers != \"\":\n",
        "      if cats != \"\": facets += \",\"\n",
        "      facets += vers\n",
        "    if proj_types != \"\":\n",
        "      if cats != \"\" or vers != \"\": facets += \",\"\n",
        "      facets += proj_types\n",
        "    facets += \"]\"; facetsInURL = \"\";\n",
        "    if facets != \"[]\": facetsInURL = f'&facets={facets}&index={index}'\n",
        "  else:\n",
        "    if categories != 'none':\n",
        "      if categories == 'fabric': categories = 4 #Fabric\n",
        "      elif categories == 'forge': categories = 1 #Forge\n",
        "      elif categories == 'quilt': categories = 5 # quilt\n",
        "    else: categories = 0 #Any\n",
        "    if index == \"relevance\": index = 1 # Featured\n",
        "    elif index == \"downloads\": index = 6 #TotalDownloads\n",
        "    elif index == \"follows\": index = 2 #Popularity\n",
        "    elif index == \"newest\": index = 11 #ReleasedDate\n",
        "    elif index == \"updated\": index = 3 #LastUpdated\n",
        "    else: index = 2\n",
        "    if versions != \"none\": versions = f\"&gameVersion={versions}\"\n",
        "    else: versions = \"\"\n",
        "    facetsInURL = f\"&modLoaderType={categories}\" + versions + f\"&sortField={index}\"\n",
        "  return facetsInURL\n",
        "def SEARCH(software, server_name, search_name, categories, versions, project_types, proj_types, index):\n",
        "  colabconfig = COLABCONFIG_LOAD(server_name)\n",
        "  project = {}\n",
        "\n",
        "  LOG(f'\\nSearching for the related of {search_name} ...')\n",
        "  if software == \"Modrinth\":\n",
        "    facetsInURL = facetsInURL(colabconfig, software, categories, versions, project_types, proj_types, index)\n",
        "    rJSON = requests.get(f'https://api.modrinth.com/v2/search?query={search_name}{facetsInURL}').json()\n",
        "    # Get the list of all relevant project\n",
        "    for hit in rJSON['hits']:\n",
        "      if hit['server_side'] == 'optional' or hit['server_side'] == 'required':\n",
        "        LOG(hit['slug'], \" : \", hit['description'], ' : ', hit[\"versions\"])\n",
        "        project[hit['slug']] = hit['project_id']\n",
        "  elif software == 'Curseforge':\n",
        "    facetsInURL = facetsInURL(colabconfig, categories, versions, project_types, proj_types)\n",
        "    # Because I haven't found any corresponded of project types in the search engine of Curseforge, I don't use it for searching.\n",
        "    # The gameid of Minecraft is 432\n",
        "    rJSON = requests.get(f\"https://api.curse.tools/v1/cf/mods/search?gameId=432&searchFilter={search_name}{facetsInURL}\").json()\n",
        "    # Get the list of all relevant project\n",
        "    for hit in rJSON[\"data\"]:\n",
        "      print(f\"Curseforge doesn't have the exact searching key for cilent-side or server-side => you may get errors when running this {proj_types}\")\n",
        "      gameversions = [vers[\"gameVersion\"] for vers in hit[\"sortableGameVersions\"]]\n",
        "      print(hit[\"name\"], ' : ', hit[\"summary\"], ' : ', gameversions)\n",
        "      project[hit['name']] = str(hit[\"id\"])\n",
        "  if project == {}:\n",
        "    EROR(f\"\\nSomething went wrong. Please check your search name.\")\n",
        "    EXIT()\n",
        "  else:\n",
        "    LOG('\\nType the project_name you want to download')\n",
        "    project_names= input('Project_name: ')\n",
        "    while project_names not in project:\n",
        "      LOG('\\nWrong project_names please type aigain. If you want to quit, type \"None\".')\n",
        "      project_names= input('\\nProject_name: ')\n",
        "      if project_names == 'None': break\n",
        "  return [project, project_names]\n",
        "#--------------------------------------------------- Ulities ----------------------------------------------------------#\n",
        "def Install_(server_name, software, url, search_name, categories, versions, project_types, index):\n",
        "  if server_name == '':\n",
        "    server_name = SERVER_IN_USE()\n",
        "  if url == '':\n",
        "    if versions == 'default': versions = colabconfig[\"server_version\"]\n",
        "    if project_types == 'default' :\n",
        "      if 'fabric' in categories or 'forge' in categories : proj_types = 'mods'\n",
        "      elif 'paper' in categories or 'purpur' in categories : proj_types = 'plugins'\n",
        "    if categories == 'default': categories = colabconfig['server_type']\n",
        "    a = SEARCH(software, server_name, search_name, categories, versions, project_types, proj_types, index)\n",
        "    project = a[0]; project_names = a[1]; check = False\n",
        "    if project_names != 'None':\n",
        "        project_id = project[project_names]\n",
        "        if software == 'Modrinth': rJSON = requests.get(f'https://api.modrinth.com/v2/project/{project_id}/version').json()\n",
        "        else: rJSON = requests.get(f'https://api.curse.tools/v1/cf/mods/{project_id}').json()['latestFilesIndexes']\n",
        "        for data in rJSON:\n",
        "          if software == 'Curseforge': data = data[\"gameVersion\"]\n",
        "          else: data = data['game_versions']\n",
        "          for game_version in data:\n",
        "            if versions == game_version:\n",
        "              if software == 'Modrinth': files = data['files'][0]; url = files['url']\n",
        "              else: files = data['fileId']; url = f'https://www.curseforge.com/api/v1/mods/{project_id}/files/{fileId}/download'\n",
        "              DOWNLOAD_FILE(url= url,\n",
        "                            path = f'/content/drive/My Drive/minecraft/{server_name}/{proj_types}',\n",
        "                            file_name= files['filename'])\n",
        "              check = True\n",
        "          if check == True: print('\\nCompleted.'); break\n",
        "        if check == False: EROR(f\"\\nCan't find the exact file. It seems that {software} doesn't support {versions[0]} version for {project_names}\")\n",
        "    else: LOG('Stopping...')\n",
        "  else:\n",
        "    filename = url[url.find(\"/\") + 1:]\n",
        "    while filename.find(\"/\")!= -1:\n",
        "      filename = filename[filename.find(\"/\") + 1:]\n",
        "    DOWNLOAD_FILE(url= url, path = f'/content/drive/My Drive/minecraft/{server_name}/{proj_types}', file_name= filename)\n",
        "\n",
        "def Backup_files(file_name = '', file_backup = '', server_name= '', server_backup = '', path = '/content/drive/MyDrive/minecraft'):\n",
        "  # Get the default server\n",
        "  if server_name == '':\n",
        "    server_name = SERVER_IN_USE()\n",
        "  # Settings path\n",
        "  if file_name != '':\n",
        "    path1 = path + f'/{server_name}/' + file_name\n",
        "    if server_backup != '':\n",
        "      if os.path.exists(f'/content/drive/MyDrive/minecraft/{server_backup}') == False:\n",
        "        !mkdir '/content/drive/MyDrive/minecraft/{server_backup}'\n",
        "    if file_backup != '' and server_backup != '': path2 = path + f'/{server_backup}/' + file_backup\n",
        "    elif file_backup != '' and server_backup == '': path2 = path + f'/{server_name}/' + file_backup\n",
        "    elif file_backup == '' and server_backup != '':  path2 = path + f'/{server_backup}/' + '(back-up)'\n",
        "    else: path2 = path + f'/{server_name}/' + '(back-up)'\n",
        "  else:\n",
        "    path1 = path + f'/{server_name}'\n",
        "    if server_backup != '': path2 = path + f'/{server_backup}'\n",
        "    else: path2 = path + f'/{server_name}' + '(back-up)'\n",
        "  # Zipping\n",
        "  !zip -r \"{path2}\".zip path1 &>dev/null && echo \"Zipping done!\" || echo \"Zipping faled.\"\n",
        "\n",
        "\n",
        "#------------------------------------------------------------------------------------------------------------------------------------#\n",
        "!command -v filebrowser &>/dev/null || curl -fsSL https://raw.githubusercontent.com/filebrowser/get/master/get.sh | bash &>/dev/null\n",
        "!sudo apt update &>/dev/null &&echo 'apt cache successfully updated' || echo \"apt cache update failed, you might receive stale packages\"\n",
        "!sudo apt upgrade &>/dev/null &&echo 'apt cache successfully upgraded' || echo \"apt cache upgrade failed, you might receive stale packages\"\n",
        "if os.path.exists('/content/drive/MyDrive/minecraft') == False: subprocess.run(['mkdir', '-p', '/content/drive/MyDrive/minecraft'])\n",
        "\n",
        "if os.path.exists(SERVERCONFIG) == False:\n",
        "  with open(SERVERCONFIG, 'w') as f:\n",
        "    dump({\"server_list\": [], \"server_in_use\": \"\"}, f)\n",
        "\n",
        "LOG('Completed')"
      ]
    },
    {
      "cell_type": "markdown",
      "metadata": {
        "id": "isidTr9WdOpz"
      },
      "source": [
        "---"
      ]
    },
    {
      "cell_type": "markdown",
      "metadata": {
        "id": "Ei7_3ODcUdm_"
      },
      "source": [
        "# 🔥 **Starting**\n",
        "---\n"
      ]
    },
    {
      "cell_type": "code",
      "execution_count": null,
      "metadata": {
        "id": "2SXjmXvf4vn0"
      },
      "outputs": [],
      "source": [
        "# @markdown ####**Choose your server file name**\n",
        "server_name = \"minecraft\" # @param {type:\"string\"}\n",
        "# @markdown ####You can either use [ngrok](https://ngrok.com/), [playit.gg](https://playit.gg/) or [cloudflare's argo](https://www.cloudflare.com/). Ngrok is easy to setup and doesn't requires anything to be installed by the clients but it can often be quite unreliable. Argo doesn't have such limitations but requires a bit more work. Playit has provided limited versions but with a static domain.\n",
        "# Standard turnel service ( Aivailable turnel: ngrok, argo, playit)\n",
        "turnel_service = 'ngrok' #@param ['ngrok', 'argo', 'playit']\n",
        "if turnel_service == 'ngrok':\n",
        "  authtoken = ''\n",
        "  region = ''\n",
        "  LOG('Get your authtoken from https://dashboard.ngrok.com/get-started/your-authtoken')\n",
        "  authtoken = input('Your authtoken: ') # '2b4aAThNSdouorMoFZTy55kGHLZ_5AUszgVXmfh8f45kSLr2N'\n",
        "  LOG('Available Regions: ')\n",
        "  LOG(' ap - Asia/Pacific (Singapore)')\n",
        "  LOG(' au - Australia (Sydney)')\n",
        "  LOG(' eu - Europa (Frankfurt - Germany)')\n",
        "  LOG(' in - India (Mumbai)')\n",
        "  LOG(' jp - Japan (Tokyo)')\n",
        "  LOG(' sa - America (São Paulo - Brazil)')\n",
        "  LOG(' us - United States (Ohio)')\n",
        "  region = input('Region: ')\n",
        "Install_server(\n",
        "  #------------------------------#\n",
        "    proxy = {\n",
        "        \"turnel_service\" : turnel_service,\n",
        "        'authtoken'   : authtoken,\n",
        "        \"region\"  : region\n",
        "    },\n",
        "  #------------------------------#\n",
        "    server_name = server_name, # your server name\n",
        "\n",
        "    type_ = \"vanilla\", # server type\n",
        "    version = 'vanilla - latest_version'\n",
        "  #------------------------------#\n",
        ")"
      ]
    },
    {
      "cell_type": "code",
      "execution_count": null,
      "metadata": {
        "id": "uRz1WuKUk5zw"
      },
      "outputs": [],
      "source": [
        "# @markdown ####**Choosing minecraft server**\n",
        "\n",
        "Choose_server()"
      ]
    },
    {
      "cell_type": "code",
      "execution_count": null,
      "metadata": {
        "id": "ElfueDQX0Bex"
      },
      "outputs": [],
      "source": [
        "# @markdown ####**Delete server**\n",
        "\n",
        "Delete_server(\n",
        "    #------------------------------#\n",
        "    # @markdown Leaving emty string   -> set to default files\n",
        "    server_name = '' # @param {type: \"string\"}\n",
        "    #------------------------------#\n",
        ")"
      ]
    },
    {
      "cell_type": "markdown",
      "metadata": {
        "id": "jii1sC2uUWvk"
      },
      "source": [
        "-----------------------------------------------------"
      ]
    },
    {
      "cell_type": "markdown",
      "metadata": {
        "id": "JMgdsuPcUuEv"
      },
      "source": [
        "# ▶ **or** 🛑  **Console**\n",
        "---\n",
        "The main console for your minecraft server"
      ]
    },
    {
      "cell_type": "markdown",
      "source": [
        "- **[Ngrok](https://ngrok.com)**\n",
        "  + Follow the prompts.\n",
        "  + The IP will change whenever you restart the server.\n",
        "- **[Cloudflare's argo](https://www.cloudflare.com/)** :\n",
        "    - If the 'Your free tunnel has started!' notification appears => Done.\n",
        "    - Access to your server:\n",
        "    1. Download [Cloudflared client](https://github.com/cloudflare/cloudflared/releases/).\n",
        "    2. Launch the binary with `<your Cloudflare file name> access tcp --hostname <tunnel_address> --url 127.0.0.1:25565` (note: tunnel_address is your address which has been set on your Cloudflare)\n",
        "    4. Finally, connect to `127.0.0.1:25565` from the minecraft client which is located in that machine.\n",
        "- **[PlayIt](https://playit.gg/)**: follow the prompts."
      ],
      "metadata": {
        "id": "p1fubTo3CSOo"
      }
    },
    {
      "cell_type": "code",
      "execution_count": null,
      "metadata": {
        "id": "lqtMoYg0dUmu"
      },
      "outputs": [],
      "source": [
        "Run_server(\n",
        "    #------------------------------#\n",
        "    # @markdown ####Leaving emty string   -> set to default files\n",
        "    server_name = '' # @param {type: 'string'}\n",
        "    #------------------------------#\n",
        ")"
      ]
    },
    {
      "cell_type": "markdown",
      "metadata": {
        "id": "Y0BWJEDQOH7J"
      },
      "source": [
        "---"
      ]
    },
    {
      "cell_type": "markdown",
      "metadata": {
        "id": "HD4lBUT9RcS-"
      },
      "source": [
        "# ⚓ **Options**\n",
        "---\n"
      ]
    },
    {
      "cell_type": "code",
      "execution_count": null,
      "metadata": {
        "id": "XO3WG0U6qPi2"
      },
      "outputs": [],
      "source": [
        "# @markdown ###**Server_custom**\n",
        "\n",
        "# @markdown ####Server icon: **upload image** and get **direct link** from [[ Image ]](https://postimages.org/)\n",
        "Server_icon = '' # @param {type: 'string'}\n",
        "# @markdown ####[[ MOTD create **tool** ]](https://mctools.org/motd-creator)\n",
        "MOTD = '' # @param {type: 'string'}\n",
        "\n",
        "\n",
        "Custom_props(\n",
        "    #------------------------------#\n",
        "    server_name = '', # Customized server file\n",
        "    #------------------------------#\n",
        "    server_icon = Server_icon,\n",
        "    motd = MOTD\n",
        "    #------------------------------#\n",
        "\n",
        ")"
      ]
    },
    {
      "cell_type": "code",
      "execution_count": null,
      "metadata": {
        "id": "pCJfyMhXRnJS"
      },
      "outputs": [],
      "source": [
        "# @markdown ###**Server properties**\n",
        "\n",
        "Slots = 20 # @param {type:\"slider\", min:0, max:100, step:1}\n",
        "Gamemode = \"survival\" # @param [\"survival\", \"creative\", \"adventure\", \"spectator\"]\n",
        "Difficulty = \"easy\" # @param [\"peaceful\", \"easy\", \"normal\", \"hard\"]\n",
        "Cracked = True # @param {type:\"boolean\"}\n",
        "PVP = True # @param {type:\"boolean\"}\n",
        "Command_block = True # @param {type:\"boolean\"}\n",
        "Fly = True # @param {type:\"boolean\"}\n",
        "Animals = True # @param {type:\"boolean\"}\n",
        "Monsters = True # @param {type:\"boolean\"}\n",
        "Villagers = True # @param {type:\"boolean\"}\n",
        "Nether = True # @param {type:\"boolean\"}\n",
        "Force_gamemode = False # @param {type:\"boolean\"}\n",
        "Spawn_protection = 16 # @param {type:\"slider\", min:0, max:100, step:1}\n",
        "\n",
        "\n",
        "\n",
        "Serverproperties(\n",
        "    server_name = '',\n",
        "\n",
        "    Slots,\n",
        "    Gamemode,\n",
        "    Difficulty,\n",
        "    Cracked,\n",
        "    PVP,\n",
        "    Command_block,\n",
        "    Fly,\n",
        "    Animals,\n",
        "    Monsters,\n",
        "    Villagers,\n",
        "    Nether,\n",
        "    Force_gamemode,\n",
        "    Spawn_protection\n",
        "\n",
        ")"
      ]
    },
    {
      "cell_type": "markdown",
      "metadata": {
        "id": "Ilo0sMqq90On"
      },
      "source": [
        "---"
      ]
    },
    {
      "cell_type": "markdown",
      "metadata": {
        "id": "hfUxmQTgUF8Z"
      },
      "source": [
        "# 📎  **Log**\n",
        "---\n"
      ]
    },
    {
      "cell_type": "code",
      "execution_count": null,
      "metadata": {
        "id": "6MYwvnY_UNzS"
      },
      "outputs": [],
      "source": [
        "# @markdown **Shows latest log of your minecraft server**\n",
        "# Getting server_folder\n",
        "\n",
        "Latest_log()"
      ]
    },
    {
      "cell_type": "markdown",
      "metadata": {
        "id": "QBzBdOXfUK1a"
      },
      "source": [
        "---\n"
      ]
    },
    {
      "cell_type": "markdown",
      "metadata": {
        "id": "JkGq3KakW-Bc"
      },
      "source": [
        "# 📰  **Software**\n",
        "---\n",
        "Change the software (vanilla) to others platforms\n",
        "\n",
        "---"
      ]
    },
    {
      "cell_type": "markdown",
      "metadata": {
        "id": "G4CT_TwV9ZiM"
      },
      "source": [
        "\n",
        "+ Please checking whether your minecraft server is in Gdrive or not.\n"
      ]
    },
    {
      "cell_type": "code",
      "execution_count": null,
      "metadata": {
        "id": "Fy5-YjJMPV3S"
      },
      "outputs": [],
      "source": [
        "Software(\n",
        "\n",
        "    # Default server\n",
        "    server_name = '',\n",
        "\n",
        "    # Server_version\n",
        "    version = '', # Customizable version\n",
        "\n",
        "    # @markdown ####*Choosing server type*\n",
        "    server_type = \"fabric\" # @param [\"vanilla\", \"snapshot\", \"paper\", \"purpur\", \"forge\", \"fabric\", 'bungeecord', 'waterfall', 'velocity']\n",
        "\n",
        ")"
      ]
    },
    {
      "cell_type": "markdown",
      "metadata": {
        "id": "o8xY7ru09mE3"
      },
      "source": [
        "---"
      ]
    },
    {
      "cell_type": "markdown",
      "metadata": {
        "id": "QaNRBRuK8seq"
      },
      "source": [
        "# 🎈  **Plugins, mods**\n",
        "---\n"
      ]
    },
    {
      "cell_type": "code",
      "execution_count": null,
      "metadata": {
        "id": "QvFvnjIRIU0c"
      },
      "outputs": [],
      "source": [
        "# @title **Download modpack/mod/plugin from [curseforge](https://www.curseforge.com/Minecraft) and [modrinth](https://modrinth.com/)**\n",
        "#@markdown ### **Your search name**\n",
        "\n",
        "search_name = '' # @param {type: 'string'}\n",
        "\n",
        "# @markdown ####Choose the place to download mod/modpack/plugin\n",
        "software = 'Curseforge' # @param [\"Curseforge\", \"Modrinth\"]\n",
        "url = '' # Customized urlmodpack (just from curseforge or modpack)\n",
        "\n",
        "# @markdown ###**Details:**\n",
        "# @markdown\n",
        "# @markdown #### (none -> don't search, default -> set up according to colabconfig file)\n",
        "categories = 'none'   #@param ['none', 'default', 'vanilla', 'fabric', 'forge', 'paper', 'purpur', 'bungeecord', 'velocity', 'waterfall']\n",
        "versions = \"default\" # @param [\"none\", \"default\"] {allow-input: true}\n",
        "project_types = 'none' # @param ['none', 'default', 'mod', 'plugin']\n",
        "index = 'relevance' #@param ['relevance', 'downloads', 'follows', 'newest', 'updated']\n",
        "\n",
        "Install_(\n",
        "\n",
        "    server_name = '', #Server_name -- left => set to default\n",
        "    software, url,\n",
        "\n",
        "    search_name,\n",
        "    categories, versions, project_types, index\n",
        ")"
      ]
    },
    {
      "cell_type": "markdown",
      "source": [
        "---"
      ],
      "metadata": {
        "id": "9Moa0zB_aJhR"
      }
    },
    {
      "cell_type": "markdown",
      "source": [
        "# **📁 File Management**\n",
        "---\n"
      ],
      "metadata": {
        "id": "F7efc3oOqTVQ"
      }
    },
    {
      "cell_type": "code",
      "source": [
        "# @markdown Back up server or file?\n",
        "choice = 'server' # @param ['server', 'file']\n",
        "file_name = ''; file_backup = ''; server_name= ''; server_backup = ''\n",
        "if choice == 'server':\n",
        "  server_name = input('Server name: ')\n",
        "  server_backup = input('Back up server name: ')\n",
        "else:\n",
        "  server_name = input('Server name: ')\n",
        "  file_name = input('File name')\n",
        "  file_backup = input('File back up name: ')\n",
        "Backup_files(\n",
        "    #------------------------------#\n",
        "    file_name = file_name,\n",
        "    file_backup = file_backup,\n",
        "    server_name= server_name,\n",
        "    server_backup = server_backup,\n",
        "    path = '/content/drive/MyDrive/minecraft'\n",
        "    #------------------------------#\n",
        ")"
      ],
      "metadata": {
        "id": "5feHpc86boU2"
      },
      "execution_count": null,
      "outputs": []
    }
  ],
  "metadata": {
    "colab": {
      "provenance": [],
      "include_colab_link": true
    },
    "kernelspec": {
      "display_name": "Python 3",
      "name": "python3"
    },
    "language_info": {
      "codemirror_mode": {
        "name": "ipython",
        "version": 3
      },
      "file_extension": ".py",
      "mimetype": "text/x-python",
      "name": "python",
      "nbconvert_exporter": "python",
      "pygments_lexer": "ipython3",
      "version": "3.12.1"
    }
  },
  "nbformat": 4,
  "nbformat_minor": 0
}